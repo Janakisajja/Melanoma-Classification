{
 "cells": [
  {
   "cell_type": "markdown",
   "metadata": {},
   "source": [
    "# Melanoma Classification\n",
    "\n",
    "\n",
    " # Janaki Sajja\n"
   ]
  },
  {
   "cell_type": "markdown",
   "metadata": {},
   "source": [
    "What is Melanoma?\n",
    "* Melanoma is a serious form of skin cancer that begins in cells known as melanocytes. While it is less common than basal cell carcinoma (BCC) and squamous cell carcinoma (SCC), melanoma is more dangerous because of its ability to spread to other organs more rapidly if it is not treated at an early stage.\n",
    "\n",
    "What does early signs of melanoma look like?\n",
    "* Melanoma borders tend to be uneven and may have scalloped or notched edges, while common moles tend to have smoother, more even borders. C is for Color. Multiple colors are a warning sign. While benign moles are usually a single shade of brown, a melanoma may have different shades of brown, tan or black.\n",
    "\n",
    "Benign Tumors\n",
    "* Benign tumors are normal cells that divide and grow too much, but do not interfere with the function of normal cells around them. They do not have the ability to move from where they originated. They are not cancerous and usually do not become cancerous, no matter how large they grow. Benign tumors frequently stop growing once they reach a certain size and do not invade other tissues. When benign tumors are removed, they usually do not grow back (recur) and do not spread to distant parts of the body (metastasize).\n",
    "\n",
    "Malignant Tumors\n",
    "* Malignant tumors are overgrowths of abnormal cells (cancer) that divide without control and order. They do not stop growing, even when they come into contact with nearby cells. As malignant tumors grow, they squeeze surrounding healthy tissue and prevent their normal function. They also release certain signals that cause the creation of new blood vessels to feed the tumor."
   ]
  },
  {
   "cell_type": "markdown",
   "metadata": {},
   "source": [
    "Images are also provided in JPEG and TFRecord format (in the jpeg and tfrecords directories, respectively). Images in TFRecord format have been resized to a uniform 1024x1024.\n",
    "\n",
    "Metadata is also provided outside of the DICOM format, in CSV files. See the Columns section for a description.\n",
    "\n",
    "We are predicting a binary target for each image. Our model is predicting the probability between 0.0 and 1.0 that the lesion in the image is malignant. In the training data, train.csv, the value 0 denotes benign, and 1 indicates malignant.\n",
    "\n",
    "Files\n",
    "* train.csv - the training set\n",
    "* test.csv - the test set\n",
    "* sample_submission.csv - a sample submission file in the correct format\n",
    "\n",
    "Columns\n",
    "* image_name - unique identifier, points to filename of related DICOM image\n",
    "* patient_id - unique patient identifier\n",
    "* sex - the sex of the patient (when unknown, will be blank)\n",
    "* age_approx - approximate patient age at time of imaging\n",
    "* anatom_site_general_challenge - location of imaged site\n",
    "* diagnosis - detailed diagnosis information (train only)\n",
    "* benign_malignant - indicator of malignancy of imaged lesion\n",
    "* target - binarized version of the target variable"
   ]
  },
  {
   "cell_type": "markdown",
   "metadata": {},
   "source": [
    "#### Dataset Information\n",
    "* The dataset consists of images in:\n",
    "    * DIOCOM format\n",
    "    * JPEG format in JPEG directory\n",
    "    * TFRecord format in tfrecords directory\n",
    "* For most of the patients we only have a few images ranging fom 1 to roughly 20.\n",
    "* More than 45 images per patient is very seldom! Nonetheless we have patients with more than 100 images.\n",
    "* There is one heavy outlier patient in the test set with close to 250 images.\n",
    "* We have more malignant cases of higher age than benign cases. 62 % of the malignant cases belong to males and only 38 % to females"
   ]
  },
  {
   "cell_type": "code",
   "execution_count": 1,
   "metadata": {},
   "outputs": [],
   "source": [
    "!pip install -q efficientnet"
   ]
  },
  {
   "cell_type": "markdown",
   "metadata": {},
   "source": [
    "# **Importing Necessary Libraries**"
   ]
  },
  {
   "cell_type": "code",
   "execution_count": 2,
   "metadata": {
    "_cell_guid": "b1076dfc-b9ad-4769-8c92-a6c4dae69d19",
    "_uuid": "8f2839f25d086af736a60e9eeb907d3b93b6e0e5"
   },
   "outputs": [],
   "source": [
    "import os\n",
    "import re\n",
    "import seaborn as sns\n",
    "import numpy as np\n",
    "import pandas as pd\n",
    "import math\n",
    "\n",
    "from matplotlib import pyplot as plt\n",
    "\n",
    "from sklearn import metrics\n",
    "from sklearn.model_selection import train_test_split\n",
    "\n",
    "import tensorflow as tf\n",
    "import tensorflow.keras.layers as L\n",
    "\n",
    "import efficientnet.tfkeras as efn\n",
    "\n",
    "from kaggle_datasets import KaggleDatasets"
   ]
  },
  {
   "cell_type": "markdown",
   "metadata": {},
   "source": [
    "# **Setting Up TPU**"
   ]
  },
  {
   "cell_type": "code",
   "execution_count": 9,
   "metadata": {},
   "outputs": [],
   "source": [
    "try:\n",
    "    tpu = tf.distribute.cluster_resolver.TPUClusterResolver()\n",
    "except ValueError:\n",
    "    tpu = None\n",
    "\n",
    "if tpu:\n",
    "    tf.config.experimental_connect_to_cluster(tpu)\n",
    "    tf.tpu.experimental.initialize_tpu_system(tpu)\n",
    "    strategy = tf.distribute.experimental.TPUStrategy(tpu)\n",
    "else:\n",
    "    strategy = tf.distribute.get_strategy()"
   ]
  },
  {
   "cell_type": "markdown",
   "metadata": {},
   "source": [
    "# **Importing Data**"
   ]
  },
  {
   "cell_type": "code",
   "execution_count": 5,
   "metadata": {},
   "outputs": [],
   "source": [
    "# For tf.dataset\n",
    "AUTO = tf.data.experimental.AUTOTUNE\n",
    "\n",
    "# Data access\n",
    "GCS_PATH = KaggleDatasets().get_gcs_path('siim-isic-melanoma-classification')"
   ]
  },
  {
   "cell_type": "code",
   "execution_count": 10,
   "metadata": {},
   "outputs": [],
   "source": [
    "EPOCHS = 12\n",
    "BATCH_SIZE = 8 * strategy.num_replicas_in_sync\n",
    "IMAGE_SIZE = [1024, 1024]"
   ]
  },
  {
   "cell_type": "code",
   "execution_count": 11,
   "metadata": {},
   "outputs": [],
   "source": [
    "def append_path(pre):\n",
    "    return np.vectorize(lambda file: os.path.join(GCS_DS_PATH, pre, file))"
   ]
  },
  {
   "cell_type": "code",
   "execution_count": 12,
   "metadata": {},
   "outputs": [],
   "source": [
    "sub = pd.read_csv('/kaggle/input/siim-isic-melanoma-classification/sample_submission.csv')\n",
    "train = pd.read_csv('/kaggle/input/siim-isic-melanoma-classification/train.csv')"
   ]
  },
  {
   "cell_type": "markdown",
   "metadata": {},
   "source": [
    "# **Exploratory Data Analysis**"
   ]
  },
  {
   "cell_type": "markdown",
   "metadata": {},
   "source": [
    "The no.of male patient Ids are more than the female patient ids in the train data set"
   ]
  },
  {
   "cell_type": "code",
   "execution_count": 13,
   "metadata": {},
   "outputs": [
    {
     "data": {
      "text/plain": [
       "[Text(0, 0.5, 'Count'), Text(0.5, 0, 'Sex')]"
      ]
     },
     "execution_count": 13,
     "metadata": {},
     "output_type": "execute_result"
    },
    {
     "data": {
      "image/png": "[encoded data removed]",
      "text/plain": [
       "<Figure size 648x360 with 1 Axes>"
      ]
     },
     "metadata": {
      "needs_background": "light"
     },
     "output_type": "display_data"
    }
   ],
   "source": [
    "plt.figure(figsize=(9,5))\n",
    "gender = sns.countplot(train['sex'])\n",
    "gender.set(xlabel='Sex',ylabel='Count')"
   ]
  },
  {
   "cell_type": "code",
   "execution_count": 14,
   "metadata": {},
   "outputs": [
    {
     "data": {
      "text/plain": [
       "<matplotlib.axes._subplots.AxesSubplot at 0x7f9b803b5150>"
      ]
     },
     "execution_count": 14,
     "metadata": {},
     "output_type": "execute_result"
    },
    {
     "data": {
      "image/png": "[encoded data removed]",
      "text/plain": [
       "<Figure size 1440x360 with 1 Axes>"
      ]
     },
     "metadata": {
      "needs_background": "light"
     },
     "output_type": "display_data"
    }
   ],
   "source": [
    "plt.figure(figsize=(20,5))\n",
    "sns.countplot(train['age_approx'])"
   ]
  },
  {
   "cell_type": "markdown",
   "metadata": {},
   "source": [
    "The graphs show that the people of age group 45-50 are mostly diagnosed by melanoma cancer. People of age group 15-20 and 85-90 are least prone to melanoma cancer."
   ]
  },
  {
   "cell_type": "code",
   "execution_count": 15,
   "metadata": {},
   "outputs": [
    {
     "data": {
      "text/plain": [
       "<matplotlib.axes._subplots.AxesSubplot at 0x7f9b923d5dd0>"
      ]
     },
     "execution_count": 15,
     "metadata": {},
     "output_type": "execute_result"
    },
    {
     "data": {
      "image/png": "[encoded data removed]",
      "text/plain": [
       "<Figure size 1440x360 with 1 Axes>"
      ]
     },
     "metadata": {
      "needs_background": "light"
     },
     "output_type": "display_data"
    }
   ],
   "source": [
    "plt.figure(figsize=(20,5))\n",
    "sns.countplot(train['anatom_site_general_challenge'])"
   ]
  },
  {
   "cell_type": "markdown",
   "metadata": {},
   "source": [
    "Most of the patients are diagonised at torso area, followed by lower extremity. Least no.of patients are diagonised at palms/soles and oral/genital areas"
   ]
  },
  {
   "cell_type": "code",
   "execution_count": 16,
   "metadata": {},
   "outputs": [
    {
     "data": {
      "text/plain": [
       "<matplotlib.axes._subplots.AxesSubplot at 0x7f9b801f43d0>"
      ]
     },
     "execution_count": 16,
     "metadata": {},
     "output_type": "execute_result"
    },
    {
     "data": {
      "image/png": "[encoded data removed]",
      "text/plain": [
       "<Figure size 360x360 with 1 Axes>"
      ]
     },
     "metadata": {
      "needs_background": "light"
     },
     "output_type": "display_data"
    }
   ],
   "source": [
    "plt.figure(figsize=(5,5))\n",
    "sns.countplot(train['benign_malignant'])"
   ]
  },
  {
   "cell_type": "markdown",
   "metadata": {},
   "source": [
    "More people are diagonised with beningn and very least of malignant cases are there in the dataset.\n",
    "\n",
    "Target == 0 resembles benign and target == 1 resembles malignant in the dataset"
   ]
  },
  {
   "cell_type": "code",
   "execution_count": 17,
   "metadata": {},
   "outputs": [
    {
     "data": {
      "text/plain": [
       "<matplotlib.axes._subplots.AxesSubplot at 0x7f9b8015e510>"
      ]
     },
     "execution_count": 17,
     "metadata": {},
     "output_type": "execute_result"
    },
    {
     "data": {
      "image/png": "[encoded data removed]",
      "text/plain": [
       "<Figure size 1440x360 with 1 Axes>"
      ]
     },
     "metadata": {
      "needs_background": "light"
     },
     "output_type": "display_data"
    }
   ],
   "source": [
    "plt.figure(figsize=(20,5))\n",
    "sns.countplot(train['diagnosis'])"
   ]
  },
  {
   "cell_type": "markdown",
   "metadata": {},
   "source": [
    "the diagnosis is unknown for most of the cases"
   ]
  },
  {
   "cell_type": "code",
   "execution_count": 18,
   "metadata": {},
   "outputs": [
    {
     "data": {
      "text/plain": [
       "<seaborn.axisgrid.FacetGrid at 0x7f9b9230ca90>"
      ]
     },
     "execution_count": 18,
     "metadata": {},
     "output_type": "execute_result"
    },
    {
     "data": {
      "image/png": "[encoded data removed]",
      "text/plain": [
       "<Figure size 430.5x360 with 1 Axes>"
      ]
     },
     "metadata": {
      "needs_background": "light"
     },
     "output_type": "display_data"
    }
   ],
   "source": [
    "targetvxgender = train.groupby(['sex','target']).count()['benign_malignant'].to_frame().reset_index()\n",
    "sns.catplot(x='target', y='benign_malignant',hue='sex', data = targetvxgender,kind='bar')"
   ]
  },
  {
   "cell_type": "markdown",
   "metadata": {},
   "source": [
    "Female are less effected by both malignant and benign when compared to male"
   ]
  },
  {
   "cell_type": "code",
   "execution_count": 19,
   "metadata": {},
   "outputs": [
    {
     "data": {
      "text/plain": [
       "Text(0.5, 21.70625000000002, 'anatom_site_general_challenge')"
      ]
     },
     "execution_count": 19,
     "metadata": {},
     "output_type": "execute_result"
    },
    {
     "data": {
      "image/png": "[encoded data removed]",
      "text/plain": [
       "<Figure size 430.5x360 with 1 Axes>"
      ]
     },
     "metadata": {
      "needs_background": "light"
     },
     "output_type": "display_data"
    }
   ],
   "source": [
    "imagevsgender = train.groupby(['sex','anatom_site_general_challenge']).count()['benign_malignant'].to_frame().reset_index()\n",
    "sns.catplot(x='anatom_site_general_challenge',y='benign_malignant', hue='sex',data=imagevsgender,kind='bar')\n",
    "plt.ylabel('no.of cases')\n",
    "plt.xticks(rotation=40)\n",
    "plt.xlabel('anatom_site_general_challenge')"
   ]
  },
  {
   "cell_type": "markdown",
   "metadata": {},
   "source": [
    "Both men and women were highly diagonised in torso area and least at oral/genital and palms/shoes region."
   ]
  },
  {
   "cell_type": "markdown",
   "metadata": {},
   "source": [
    "# **Data Preprocessing**"
   ]
  },
  {
   "cell_type": "markdown",
   "metadata": {},
   "source": [
    "### Data Preparation for TPU"
   ]
  },
  {
   "cell_type": "markdown",
   "metadata": {},
   "source": [
    "In the cell below, we are taking the path of training and testing tfrec files to TRAINING_FILENAMES, TEST_FILENAMES respectively."
   ]
  },
  {
   "cell_type": "code",
   "execution_count": 20,
   "metadata": {},
   "outputs": [],
   "source": [
    "TRAINING_FILENAMES = tf.io.gfile.glob(GCS_PATH + '/tfrecords/train*.tfrec')\n",
    "TEST_FILENAMES = tf.io.gfile.glob(GCS_PATH + '/tfrecords/test*.tfrec')\n",
    "\n",
    "CLASSES = [0,1]   "
   ]
  },
  {
   "cell_type": "markdown",
   "metadata": {},
   "source": [
    "### **Different Functions For TPU Read**"
   ]
  },
  {
   "cell_type": "markdown",
   "metadata": {},
   "source": [
    "In the cell below, we have written several functions for TPU read. \n",
    "* image_preprocessing : This function reads the image and creates a matrix and then the image matrix is converted into float and then it is reshaped. \n",
    "* read_labeled_tfrecord : This function read the data from all the labeled tfrecord files and outputs the image and its label.\n",
    "* read_unlabeled_tfrecord : This function read the data from all the unlabeled tfrecord files and outputs the image and creates a new label id.\n",
    "* load_dataset : This function load the dataset from the various .tfrec files\n",
    "* data_augmentation : Data Augmentation increases the data availablity to the model by perform cropping, padding, horizontal fliping, etc. Here in our function we are fliping the image.\n",
    "* get_training_dataset : This function fetches all the training data and creates a dataset.\n",
    "* get_validation_dataset : This function fetches all the validation data and creates a dataset.\n",
    "* get_test_dataset : This function fetches all the test data and creates the dataset.\n",
    "* count_data_items : This function counts the number of items in the dataset.\n",
    "\n",
    "\n",
    "Then below variables are calculated.\n",
    "* number_of_training_images is calculated by counting the TRAINING_FILENAMES\n",
    "* number_of_test_images is calculated by counting the TEST_FILENAMES\n",
    "* steps_per_epoch is calculated using this foumula: number_of_training_images // BATCH_SIZE"
   ]
  },
  {
   "cell_type": "code",
   "execution_count": 22,
   "metadata": {},
   "outputs": [
    {
     "name": "stdout",
     "output_type": "stream",
     "text": [
      "Dataset: 33126 training images, 10982 unlabeled test images\n"
     ]
    }
   ],
   "source": [
    "def image_preprocessing(image_data): #Reads the image and creates a matrix and then the image matrix is converted into float and then it is reshaped\n",
    "    image = tf.image.decode_jpeg(image_data, channels=3)\n",
    "    image = tf.cast(image, tf.float32) / 255.0  \n",
    "    image = tf.reshape(image, [*IMAGE_SIZE, 3]) \n",
    "    return image\n",
    "\n",
    "def read_labeled_tfrecord(example): #Read the data from all the labeled tfrecord files and outputs the image and its label\n",
    "    labeled_tfrec_format = {\n",
    "        \"image\": tf.io.FixedLenFeature([], tf.string), \n",
    "        \"target\": tf.io.FixedLenFeature([], tf.int64),\n",
    "    }\n",
    "    example = tf.io.parse_single_example(example, labeled_tfrec_format)\n",
    "    image = image_preprocessing(example['image'])\n",
    "    label = tf.cast(example['target'], tf.int32)\n",
    "    return image, label\n",
    "\n",
    "def read_unlabeled_tfrecord(example): #Read the data from all the unlabeled tfrecord files and outputs the image and creates a new label id. \n",
    "    unlabeled_tfrec_format = {\n",
    "        \"image\": tf.io.FixedLenFeature([], tf.string), \n",
    "        \"image_name\": tf.io.FixedLenFeature([], tf.string),  \n",
    "    }\n",
    "    example = tf.io.parse_single_example(example, unlabeled_tfrec_format)\n",
    "    image = image_preprocessing(example['image'])\n",
    "    idnum = example['image_name']\n",
    "    return image, idnum\n",
    "\n",
    "def load_dataset(filenames, labeled=True, ordered=False): #Load the dataset from the various .tfrec files\n",
    "    ignore_order = tf.data.Options()\n",
    "    if not ordered:\n",
    "        ignore_order.experimental_deterministic = False\n",
    "\n",
    "    dataset = tf.data.TFRecordDataset(filenames, num_parallel_reads=AUTO) \n",
    "    dataset = dataset.with_options(ignore_order)\n",
    "    dataset = dataset.map(read_labeled_tfrecord if labeled else read_unlabeled_tfrecord, num_parallel_calls=AUTO)\n",
    "    return dataset\n",
    "\n",
    "def data_augmentation(image, label): #Data Augmentation increases the data availablity to the model by perform cropping, padding, horizontal fliping, etc. Here in our function we are fliping the image\n",
    "    image = tf.image.random_flip_left_right(image)\n",
    "    return image, label   \n",
    "\n",
    "def get_training_dataset(): #Fetches all the training data and creates a dataset\n",
    "    dataset = load_dataset(TRAINING_FILENAMES, labeled=True)\n",
    "    dataset = dataset.map(data_augmentation, num_parallel_calls=AUTO)\n",
    "    dataset = dataset.repeat() \n",
    "    dataset = dataset.shuffle(2048)\n",
    "    dataset = dataset.batch(BATCH_SIZE)\n",
    "    dataset = dataset.prefetch(AUTO)\n",
    "    return dataset\n",
    "\n",
    "def get_validation_dataset(ordered=False): #Fetches all the validation data and creates a dataset\n",
    "    dataset = load_dataset(VALIDATION_FILENAMES, labeled=True, ordered=ordered)\n",
    "    dataset = dataset.batch(BATCH_SIZE)\n",
    "    dataset = dataset.cache()\n",
    "    dataset = dataset.prefetch(AUTO)\n",
    "    return dataset\n",
    "\n",
    "def get_test_dataset(ordered=False): #Fetches all the test data and creates the dataset\n",
    "    dataset = load_dataset(TEST_FILENAMES, labeled=False, ordered=ordered)\n",
    "    dataset = dataset.batch(BATCH_SIZE)\n",
    "    dataset = dataset.prefetch(AUTO)\n",
    "    return dataset\n",
    "\n",
    "def count_data_items(filenames): #Function to count the number of items in the dataset\n",
    "    n = [int(re.compile(r\"-([0-9]*)\\.\").search(filename).group(1)) for filename in filenames]\n",
    "    return np.sum(n)\n",
    "\n",
    "number_of_training_images = count_data_items(TRAINING_FILENAMES)\n",
    "number_of_test_images = count_data_items(TEST_FILENAMES)\n",
    "steps_per_epoch = number_of_training_images // BATCH_SIZE\n",
    "print(f'Dataset: {number_of_training_images} training images, {number_of_test_images} unlabeled test images')"
   ]
  },
  {
   "cell_type": "markdown",
   "metadata": {},
   "source": [
    "### **Function For Variable Learning Rate**"
   ]
  },
  {
   "cell_type": "markdown",
   "metadata": {},
   "source": [
    "The below function is used for variable learning rate. As the model gets trained the learning rate decreases."
   ]
  },
  {
   "cell_type": "code",
   "execution_count": 23,
   "metadata": {},
   "outputs": [],
   "source": [
    "def build_lrfn(lr_start=0.00001, lr_max=0.0001, \n",
    "               lr_min=0.000001, lr_rampup_epochs=20, \n",
    "               lr_sustain_epochs=0, lr_exp_decay=.8):\n",
    "    lr_max = lr_max * strategy.num_replicas_in_sync\n",
    "\n",
    "    def lrfn(epoch):\n",
    "        if epoch < lr_rampup_epochs:\n",
    "            lr = (lr_max - lr_start) / lr_rampup_epochs * epoch + lr_start\n",
    "        elif epoch < lr_rampup_epochs + lr_sustain_epochs:\n",
    "            lr = lr_max\n",
    "        else:\n",
    "            lr = (lr_max - lr_min) * lr_exp_decay**(epoch - lr_rampup_epochs - lr_sustain_epochs) + lr_min\n",
    "        return lr\n",
    "    \n",
    "    return lrfn"
   ]
  },
  {
   "cell_type": "markdown",
   "metadata": {},
   "source": [
    "# **Model Preparation**"
   ]
  },
  {
   "cell_type": "markdown",
   "metadata": {},
   "source": [
    "In below cell, we are defining a sequential model with efficientNetB7 (Tensorflow keras)\n",
    "The Sequential model in keras is actually one of the simplest neural networks, a multi-layer perceptron. \n",
    "Here we are using this model to because a Sequential model is appropriate for a plain stack of layers where each layer has exactly one input tensor and one output tensor. \n",
    "We have total 5 layers in our model. We have created a Sequential model by passing a list of layers to the Sequential constructor. Please follow the below images to understand it better.\n",
    "Generally all the layers in keras need to know the shape of their inputs in order to be able to create therir weights. \n",
    "* We have specified input shape as (*IMAGE_SIZE variable, 3). \n",
    "* We have used ‘relu’ activation for 4 layeres and ‘sigmoid’ activation for 5th. In our model, no. of units we started with first layer as 1024 and decreased them gradually till 1. \n",
    "* Generally, use a small dropout value of 20%-50% of neurons with 20% providing a good starting point. A probability too low has minimal effect and a value too high results in under-learning by the network. Use dropout on visible as well as hidden units. Application of dropout at each layer of the network has shown good results.\n",
    "\n",
    "After creating our model, we are compiling it. And printing model summary.\n"
   ]
  },
  {
   "cell_type": "code",
   "execution_count": 24,
   "metadata": {},
   "outputs": [
    {
     "name": "stdout",
     "output_type": "stream",
     "text": [
      "Model: \"sequential_1\"\n",
      "_________________________________________________________________\n",
      "Layer (type)                 Output Shape              Param #   \n",
      "=================================================================\n",
      "efficientnet-b7 (Model)      (None, 32, 32, 2560)      64097680  \n",
      "_________________________________________________________________\n",
      "global_average_pooling2d_1 ( (None, 2560)              0         \n",
      "_________________________________________________________________\n",
      "dense_5 (Dense)              (None, 1024)              2622464   \n",
      "_________________________________________________________________\n",
      "dropout_4 (Dropout)          (None, 1024)              0         \n",
      "_________________________________________________________________\n",
      "dense_6 (Dense)              (None, 512)               524800    \n",
      "_________________________________________________________________\n",
      "dropout_5 (Dropout)          (None, 512)               0         \n",
      "_________________________________________________________________\n",
      "dense_7 (Dense)              (None, 256)               131328    \n",
      "_________________________________________________________________\n",
      "dropout_6 (Dropout)          (None, 256)               0         \n",
      "_________________________________________________________________\n",
      "dense_8 (Dense)              (None, 128)               32896     \n",
      "_________________________________________________________________\n",
      "dropout_7 (Dropout)          (None, 128)               0         \n",
      "_________________________________________________________________\n",
      "dense_9 (Dense)              (None, 1)                 129       \n",
      "=================================================================\n",
      "Total params: 67,409,297\n",
      "Trainable params: 67,098,577\n",
      "Non-trainable params: 310,720\n",
      "_________________________________________________________________\n"
     ]
    }
   ],
   "source": [
    "with strategy.scope():\n",
    "    model = tf.keras.Sequential([\n",
    "        efn.EfficientNetB7(\n",
    "            input_shape=(*IMAGE_SIZE, 3),\n",
    "            weights='imagenet',\n",
    "            include_top=False\n",
    "        ),\n",
    "        L.GlobalAveragePooling2D(),\n",
    "        L.Dense(1024, activation = 'relu'), \n",
    "        L.Dropout(0.3), \n",
    "        L.Dense(512, activation= 'relu'), \n",
    "        L.Dropout(0.2), \n",
    "        L.Dense(256, activation='relu'), \n",
    "        L.Dropout(0.2), \n",
    "        L.Dense(128, activation='relu'), \n",
    "        L.Dropout(0.1), \n",
    "        L.Dense(1, activation='sigmoid')\n",
    "    ])\n",
    "    \n",
    "model.compile(\n",
    "    optimizer='adam',\n",
    "    loss = tf.keras.losses.BinaryCrossentropy(label_smoothing = 0.1),\n",
    "    metrics=['binary_crossentropy','accuracy']\n",
    ")\n",
    "model.summary()\n"
   ]
  },
  {
   "cell_type": "markdown",
   "metadata": {},
   "source": [
    "In cell below, we are calculating learning rate, and using learning rate scheduler. At the beginning of every epoch, this callback gets the updated learning rate value from schedule function provided at __init__, with the current epoch and current learning rate, and applies the updated learning rate on the optimizer.\n",
    "We are calculating steps_per_epoch using this formula: number_of_training_images // BATCH_SIZE"
   ]
  },
  {
   "cell_type": "code",
   "execution_count": 26,
   "metadata": {},
   "outputs": [],
   "source": [
    "lrfn = build_lrfn()\n",
    "lr_schedule = tf.keras.callbacks.LearningRateScheduler(lrfn, verbose=1)\n",
    "\n",
    "steps_per_epoch = number_of_training_images // BATCH_SIZE"
   ]
  },
  {
   "cell_type": "markdown",
   "metadata": {},
   "source": [
    "# **Model Fitting**"
   ]
  },
  {
   "cell_type": "code",
   "execution_count": 27,
   "metadata": {},
   "outputs": [
    {
     "name": "stdout",
     "output_type": "stream",
     "text": [
      "\n",
      "Epoch 00001: LearningRateScheduler reducing learning rate to 1e-05.\n",
      "Epoch 1/6\n",
      "517/517 [==============================] - 974s 2s/step - accuracy: 0.9788 - loss: 0.3124 - binary_crossentropy: 0.2036 - lr: 1.0000e-05\n",
      "\n",
      "Epoch 00002: LearningRateScheduler reducing learning rate to 4.95e-05.\n",
      "Epoch 2/6\n",
      "517/517 [==============================] - 975s 2s/step - accuracy: 0.9821 - loss: 0.2470 - binary_crossentropy: 0.1159 - lr: 4.9500e-05\n",
      "\n",
      "Epoch 00003: LearningRateScheduler reducing learning rate to 8.9e-05.\n",
      "Epoch 3/6\n",
      "517/517 [==============================] - 975s 2s/step - accuracy: 0.9824 - loss: 0.2434 - binary_crossentropy: 0.1105 - lr: 8.9000e-05\n",
      "\n",
      "Epoch 00004: LearningRateScheduler reducing learning rate to 0.0001285.\n",
      "Epoch 4/6\n",
      "517/517 [==============================] - 975s 2s/step - accuracy: 0.9827 - loss: 0.2417 - binary_crossentropy: 0.1082 - lr: 1.2850e-04\n",
      "\n",
      "Epoch 00005: LearningRateScheduler reducing learning rate to 0.000168.\n",
      "Epoch 5/6\n",
      "517/517 [==============================] - 975s 2s/step - accuracy: 0.9821 - loss: 0.2422 - binary_crossentropy: 0.1089 - lr: 1.6800e-04\n",
      "\n",
      "Epoch 00006: LearningRateScheduler reducing learning rate to 0.00020749999999999998.\n",
      "Epoch 6/6\n",
      "517/517 [==============================] - 974s 2s/step - accuracy: 0.9823 - loss: 0.2405 - binary_crossentropy: 0.1069 - lr: 2.0750e-04\n"
     ]
    }
   ],
   "source": [
    "history = model.fit(\n",
    "    get_training_dataset(), \n",
    "    epochs=6, \n",
    "    callbacks=[lr_schedule],\n",
    "    steps_per_epoch=steps_per_epoch\n",
    ")"
   ]
  },
  {
   "cell_type": "markdown",
   "metadata": {},
   "source": [
    "# **Making predictions using trained model**"
   ]
  },
  {
   "cell_type": "markdown",
   "metadata": {},
   "source": [
    "In the cell below, we are trying to predict the binary target for images from test dataset. Our model is predicting the probability between 0.0 and 1.0 that the lesion in the image is malignant or not."
   ]
  },
  {
   "cell_type": "code",
   "execution_count": 28,
   "metadata": {},
   "outputs": [],
   "source": [
    "test_dataset = get_test_dataset(ordered=True)\n",
    "test_images_dataset = test_dataset.map(lambda image, idnum: image)\n",
    "probabilities = model.predict(test_images_dataset)"
   ]
  },
  {
   "cell_type": "code",
   "execution_count": 30,
   "metadata": {},
   "outputs": [],
   "source": [
    "test_ids_dataset = test_dataset.map(lambda image, idnum: idnum).unbatch()\n",
    "test_ids = next(iter(test_ids_dataset.batch(number_of_test_images))).numpy().astype('U')"
   ]
  },
  {
   "cell_type": "code",
   "execution_count": 31,
   "metadata": {},
   "outputs": [
    {
     "data": {
      "text/html": [
       "<div>\n",
       "<style scoped>\n",
       "    .dataframe tbody tr th:only-of-type {\n",
       "        vertical-align: middle;\n",
       "    }\n",
       "\n",
       "    .dataframe tbody tr th {\n",
       "        vertical-align: top;\n",
       "    }\n",
       "\n",
       "    .dataframe thead th {\n",
       "        text-align: right;\n",
       "    }\n",
       "</style>\n",
       "<table border=\"1\" class=\"dataframe\">\n",
       "  <thead>\n",
       "    <tr style=\"text-align: right;\">\n",
       "      <th></th>\n",
       "      <th>image_name</th>\n",
       "      <th>target</th>\n",
       "    </tr>\n",
       "  </thead>\n",
       "  <tbody>\n",
       "    <tr>\n",
       "      <th>0</th>\n",
       "      <td>ISIC_6381819</td>\n",
       "      <td>0.207136</td>\n",
       "    </tr>\n",
       "    <tr>\n",
       "      <th>1</th>\n",
       "      <td>ISIC_5583376</td>\n",
       "      <td>0.096270</td>\n",
       "    </tr>\n",
       "    <tr>\n",
       "      <th>2</th>\n",
       "      <td>ISIC_6408546</td>\n",
       "      <td>0.073663</td>\n",
       "    </tr>\n",
       "    <tr>\n",
       "      <th>3</th>\n",
       "      <td>ISIC_6932354</td>\n",
       "      <td>0.089517</td>\n",
       "    </tr>\n",
       "    <tr>\n",
       "      <th>4</th>\n",
       "      <td>ISIC_8191278</td>\n",
       "      <td>0.137625</td>\n",
       "    </tr>\n",
       "  </tbody>\n",
       "</table>\n",
       "</div>"
      ],
      "text/plain": [
       "     image_name    target\n",
       "0  ISIC_6381819  0.207136\n",
       "1  ISIC_5583376  0.096270\n",
       "2  ISIC_6408546  0.073663\n",
       "3  ISIC_6932354  0.089517\n",
       "4  ISIC_8191278  0.137625"
      ]
     },
     "execution_count": 31,
     "metadata": {},
     "output_type": "execute_result"
    }
   ],
   "source": [
    "pred_df = pd.DataFrame({'image_name': test_ids, 'target': np.concatenate(probabilities)})\n",
    "pred_df.head()"
   ]
  },
  {
   "cell_type": "markdown",
   "metadata": {},
   "source": [
    "In the training data, train.csv, the value 0 denotes benign, and 1 indicates malignant.\n",
    "Below image shows, the actual value in test dataset. Which means those images are benign."
   ]
  },
  {
   "cell_type": "code",
   "execution_count": 32,
   "metadata": {},
   "outputs": [
    {
     "data": {
      "text/html": [
       "<div>\n",
       "<style scoped>\n",
       "    .dataframe tbody tr th:only-of-type {\n",
       "        vertical-align: middle;\n",
       "    }\n",
       "\n",
       "    .dataframe tbody tr th {\n",
       "        vertical-align: top;\n",
       "    }\n",
       "\n",
       "    .dataframe thead th {\n",
       "        text-align: right;\n",
       "    }\n",
       "</style>\n",
       "<table border=\"1\" class=\"dataframe\">\n",
       "  <thead>\n",
       "    <tr style=\"text-align: right;\">\n",
       "      <th></th>\n",
       "      <th>image_name</th>\n",
       "      <th>target</th>\n",
       "    </tr>\n",
       "  </thead>\n",
       "  <tbody>\n",
       "    <tr>\n",
       "      <th>0</th>\n",
       "      <td>ISIC_0052060</td>\n",
       "      <td>0</td>\n",
       "    </tr>\n",
       "    <tr>\n",
       "      <th>1</th>\n",
       "      <td>ISIC_0052349</td>\n",
       "      <td>0</td>\n",
       "    </tr>\n",
       "    <tr>\n",
       "      <th>2</th>\n",
       "      <td>ISIC_0058510</td>\n",
       "      <td>0</td>\n",
       "    </tr>\n",
       "    <tr>\n",
       "      <th>3</th>\n",
       "      <td>ISIC_0073313</td>\n",
       "      <td>0</td>\n",
       "    </tr>\n",
       "    <tr>\n",
       "      <th>4</th>\n",
       "      <td>ISIC_0073502</td>\n",
       "      <td>0</td>\n",
       "    </tr>\n",
       "  </tbody>\n",
       "</table>\n",
       "</div>"
      ],
      "text/plain": [
       "     image_name  target\n",
       "0  ISIC_0052060       0\n",
       "1  ISIC_0052349       0\n",
       "2  ISIC_0058510       0\n",
       "3  ISIC_0073313       0\n",
       "4  ISIC_0073502       0"
      ]
     },
     "execution_count": 32,
     "metadata": {},
     "output_type": "execute_result"
    }
   ],
   "source": [
    "sub.head()\n"
   ]
  },
  {
   "cell_type": "markdown",
   "metadata": {},
   "source": [
    "And the image given below has predicted values from test dataset, test.csv, where target is near 0.\n",
    "Which means all the 5 images are benign, and our prediction is accurate."
   ]
  },
  {
   "cell_type": "code",
   "execution_count": 34,
   "metadata": {},
   "outputs": [
    {
     "data": {
      "text/html": [
       "<div>\n",
       "<style scoped>\n",
       "    .dataframe tbody tr th:only-of-type {\n",
       "        vertical-align: middle;\n",
       "    }\n",
       "\n",
       "    .dataframe tbody tr th {\n",
       "        vertical-align: top;\n",
       "    }\n",
       "\n",
       "    .dataframe thead th {\n",
       "        text-align: right;\n",
       "    }\n",
       "</style>\n",
       "<table border=\"1\" class=\"dataframe\">\n",
       "  <thead>\n",
       "    <tr style=\"text-align: right;\">\n",
       "      <th></th>\n",
       "      <th>image_name</th>\n",
       "      <th>target</th>\n",
       "    </tr>\n",
       "  </thead>\n",
       "  <tbody>\n",
       "    <tr>\n",
       "      <th>0</th>\n",
       "      <td>ISIC_0052060</td>\n",
       "      <td>0.082039</td>\n",
       "    </tr>\n",
       "    <tr>\n",
       "      <th>1</th>\n",
       "      <td>ISIC_0052349</td>\n",
       "      <td>0.095533</td>\n",
       "    </tr>\n",
       "    <tr>\n",
       "      <th>2</th>\n",
       "      <td>ISIC_0058510</td>\n",
       "      <td>0.081146</td>\n",
       "    </tr>\n",
       "    <tr>\n",
       "      <th>3</th>\n",
       "      <td>ISIC_0073313</td>\n",
       "      <td>0.102881</td>\n",
       "    </tr>\n",
       "    <tr>\n",
       "      <th>4</th>\n",
       "      <td>ISIC_0073502</td>\n",
       "      <td>0.128931</td>\n",
       "    </tr>\n",
       "  </tbody>\n",
       "</table>\n",
       "</div>"
      ],
      "text/plain": [
       "     image_name    target\n",
       "0  ISIC_0052060  0.082039\n",
       "1  ISIC_0052349  0.095533\n",
       "2  ISIC_0058510  0.081146\n",
       "3  ISIC_0073313  0.102881\n",
       "4  ISIC_0073502  0.128931"
      ]
     },
     "execution_count": 34,
     "metadata": {},
     "output_type": "execute_result"
    }
   ],
   "source": [
    "del sub['target']\n",
    "sub = sub.merge(pred_df, on='image_name')\n",
    "sub.to_csv('new_submission.csv', index=False)\n",
    "sub.head()"
   ]
  }
 ],
 "metadata": {
  "kernelspec": {
   "display_name": "Python 3",
   "language": "python",
   "name": "python3"
  },
  "language_info": {
   "codemirror_mode": {
    "name": "ipython",
    "version": 3
   },
   "file_extension": ".py",
   "mimetype": "text/x-python",
   "name": "python",
   "nbconvert_exporter": "python",
   "pygments_lexer": "ipython3",
   "version": "3.8.3"
  }
 },
 "nbformat": 4,
 "nbformat_minor": 4
}
